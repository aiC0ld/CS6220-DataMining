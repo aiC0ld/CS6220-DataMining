{
  "cells": [
    {
      "cell_type": "markdown",
      "metadata": {
        "id": "kPt5q27L5557"
      },
      "source": [
        "# Homework 3\n",
        "\n",
        "\n",
        "Submit your *.ipynb through Gradescope by downloading: `File` ⇒ `Download` ⇒ `Download .ipynb`, and then submit with your PDF via link to your repository."
      ]
    },
    {
      "cell_type": "markdown",
      "metadata": {
        "id": "p0-YhEpP_Ds-"
      },
      "source": [
        "### Setup"
      ]
    },
    {
      "cell_type": "code",
      "execution_count": null,
      "metadata": {
        "id": "k-qHai2252mI",
        "colab": {
          "base_uri": "https://localhost:8080/"
        },
        "outputId": "e4ee668e-0d54-4bd7-b849-496ccb15b695"
      },
      "outputs": [
        {
          "output_type": "stream",
          "name": "stdout",
          "text": [
            "Collecting pyspark\n",
            "  Downloading pyspark-3.5.3.tar.gz (317.3 MB)\n",
            "\u001b[2K     \u001b[90m━━━━━━━━━━━━━━━━━━━━━━━━━━━━━━━━━━━━━━━━\u001b[0m \u001b[32m317.3/317.3 MB\u001b[0m \u001b[31m1.6 MB/s\u001b[0m eta \u001b[36m0:00:00\u001b[0m\n",
            "\u001b[?25h  Preparing metadata (setup.py) ... \u001b[?25l\u001b[?25hdone\n",
            "Requirement already satisfied: py4j==0.10.9.7 in /usr/local/lib/python3.10/dist-packages (from pyspark) (0.10.9.7)\n",
            "Building wheels for collected packages: pyspark\n",
            "  Building wheel for pyspark (setup.py) ... \u001b[?25l\u001b[?25hdone\n",
            "  Created wheel for pyspark: filename=pyspark-3.5.3-py2.py3-none-any.whl size=317840625 sha256=9457fb3a17debc8ea2014d486ccb749710fa58a60ff13dddca73814fcf17879e\n",
            "  Stored in directory: /root/.cache/pip/wheels/1b/3a/92/28b93e2fbfdbb07509ca4d6f50c5e407f48dce4ddbda69a4ab\n",
            "Successfully built pyspark\n",
            "Installing collected packages: pyspark\n",
            "Successfully installed pyspark-3.5.3\n",
            "The following additional packages will be installed:\n",
            "  libxtst6 openjdk-8-jre-headless\n",
            "Suggested packages:\n",
            "  openjdk-8-demo openjdk-8-source libnss-mdns fonts-dejavu-extra fonts-nanum fonts-ipafont-gothic\n",
            "  fonts-ipafont-mincho fonts-wqy-microhei fonts-wqy-zenhei fonts-indic\n",
            "The following NEW packages will be installed:\n",
            "  libxtst6 openjdk-8-jdk-headless openjdk-8-jre-headless\n",
            "0 upgraded, 3 newly installed, 0 to remove and 49 not upgraded.\n",
            "Need to get 39.6 MB of archives.\n",
            "After this operation, 144 MB of additional disk space will be used.\n",
            "Selecting previously unselected package libxtst6:amd64.\n",
            "(Reading database ... 123620 files and directories currently installed.)\n",
            "Preparing to unpack .../libxtst6_2%3a1.2.3-1build4_amd64.deb ...\n",
            "Unpacking libxtst6:amd64 (2:1.2.3-1build4) ...\n",
            "Selecting previously unselected package openjdk-8-jre-headless:amd64.\n",
            "Preparing to unpack .../openjdk-8-jre-headless_8u422-b05-1~22.04_amd64.deb ...\n",
            "Unpacking openjdk-8-jre-headless:amd64 (8u422-b05-1~22.04) ...\n",
            "Selecting previously unselected package openjdk-8-jdk-headless:amd64.\n",
            "Preparing to unpack .../openjdk-8-jdk-headless_8u422-b05-1~22.04_amd64.deb ...\n",
            "Unpacking openjdk-8-jdk-headless:amd64 (8u422-b05-1~22.04) ...\n",
            "Setting up libxtst6:amd64 (2:1.2.3-1build4) ...\n",
            "Setting up openjdk-8-jre-headless:amd64 (8u422-b05-1~22.04) ...\n",
            "update-alternatives: using /usr/lib/jvm/java-8-openjdk-amd64/jre/bin/orbd to provide /usr/bin/orbd (orbd) in auto mode\n",
            "update-alternatives: using /usr/lib/jvm/java-8-openjdk-amd64/jre/bin/servertool to provide /usr/bin/servertool (servertool) in auto mode\n",
            "update-alternatives: using /usr/lib/jvm/java-8-openjdk-amd64/jre/bin/tnameserv to provide /usr/bin/tnameserv (tnameserv) in auto mode\n",
            "Setting up openjdk-8-jdk-headless:amd64 (8u422-b05-1~22.04) ...\n",
            "update-alternatives: using /usr/lib/jvm/java-8-openjdk-amd64/bin/clhsdb to provide /usr/bin/clhsdb (clhsdb) in auto mode\n",
            "update-alternatives: using /usr/lib/jvm/java-8-openjdk-amd64/bin/extcheck to provide /usr/bin/extcheck (extcheck) in auto mode\n",
            "update-alternatives: using /usr/lib/jvm/java-8-openjdk-amd64/bin/hsdb to provide /usr/bin/hsdb (hsdb) in auto mode\n",
            "update-alternatives: using /usr/lib/jvm/java-8-openjdk-amd64/bin/idlj to provide /usr/bin/idlj (idlj) in auto mode\n",
            "update-alternatives: using /usr/lib/jvm/java-8-openjdk-amd64/bin/javah to provide /usr/bin/javah (javah) in auto mode\n",
            "update-alternatives: using /usr/lib/jvm/java-8-openjdk-amd64/bin/jhat to provide /usr/bin/jhat (jhat) in auto mode\n",
            "update-alternatives: using /usr/lib/jvm/java-8-openjdk-amd64/bin/jsadebugd to provide /usr/bin/jsadebugd (jsadebugd) in auto mode\n",
            "update-alternatives: using /usr/lib/jvm/java-8-openjdk-amd64/bin/native2ascii to provide /usr/bin/native2ascii (native2ascii) in auto mode\n",
            "update-alternatives: using /usr/lib/jvm/java-8-openjdk-amd64/bin/schemagen to provide /usr/bin/schemagen (schemagen) in auto mode\n",
            "update-alternatives: using /usr/lib/jvm/java-8-openjdk-amd64/bin/wsgen to provide /usr/bin/wsgen (wsgen) in auto mode\n",
            "update-alternatives: using /usr/lib/jvm/java-8-openjdk-amd64/bin/wsimport to provide /usr/bin/wsimport (wsimport) in auto mode\n",
            "update-alternatives: using /usr/lib/jvm/java-8-openjdk-amd64/bin/xjc to provide /usr/bin/xjc (xjc) in auto mode\n",
            "Processing triggers for libc-bin (2.35-0ubuntu3.4) ...\n",
            "/sbin/ldconfig.real: /usr/local/lib/libtbbbind_2_0.so.3 is not a symbolic link\n",
            "\n",
            "/sbin/ldconfig.real: /usr/local/lib/libtbbmalloc_proxy.so.2 is not a symbolic link\n",
            "\n",
            "/sbin/ldconfig.real: /usr/local/lib/libtbb.so.12 is not a symbolic link\n",
            "\n",
            "/sbin/ldconfig.real: /usr/local/lib/libtbbbind.so.3 is not a symbolic link\n",
            "\n",
            "/sbin/ldconfig.real: /usr/local/lib/libtbbbind_2_5.so.3 is not a symbolic link\n",
            "\n",
            "/sbin/ldconfig.real: /usr/local/lib/libtbbmalloc.so.2 is not a symbolic link\n",
            "\n",
            "/sbin/ldconfig.real: /usr/local/lib/libur_adapter_level_zero.so.0 is not a symbolic link\n",
            "\n",
            "/sbin/ldconfig.real: /usr/local/lib/libur_loader.so.0 is not a symbolic link\n",
            "\n",
            "/sbin/ldconfig.real: /usr/local/lib/libur_adapter_opencl.so.0 is not a symbolic link\n",
            "\n"
          ]
        }
      ],
      "source": [
        "!pip install pyspark\n",
        "!pip install -U -q PyDrive\n",
        "!apt install openjdk-8-jdk-headless -qq\n",
        "import os\n",
        "os.environ[\"JAVA_HOME\"] = \"/usr/lib/jvm/java-8-openjdk-amd64\""
      ]
    },
    {
      "cell_type": "code",
      "source": [
        "#@title Import PySpark and create SparkContext\n",
        "\n",
        "import itertools\n",
        "import pyspark\n",
        "from pyspark.sql import SparkSession\n",
        "# from pyspark.sql.functions import *\n",
        "from pyspark import SparkContext, SparkConf\n",
        "import os\n",
        "os.environ[\"JAVA_HOME\"] = \"/usr/lib/jvm/java-8-openjdk-amd64\"\n",
        "\n",
        "# create the session\n",
        "conf = SparkConf().set(\"spark.ui.port\", \"4050\")\n",
        "\n",
        "# create the context\n",
        "sc = pyspark.SparkContext(conf=conf)\n",
        "spark = SparkSession.builder.getOrCreate()"
      ],
      "metadata": {
        "id": "KBAOtmroKCqG"
      },
      "execution_count": null,
      "outputs": []
    },
    {
      "cell_type": "code",
      "source": [
        "#@title Download the data from the course website\n",
        "!wget --no-check-certificate https://course.ccs.neu.edu/cs6220/fall2024/homework-3/soc-LiveJournal1Adj.txt"
      ],
      "metadata": {
        "colab": {
          "base_uri": "https://localhost:8080/"
        },
        "id": "18LWrPEMKCIW",
        "outputId": "9221a284-a357-4f85-c693-d17bd5f8510e"
      },
      "execution_count": null,
      "outputs": [
        {
          "output_type": "stream",
          "name": "stdout",
          "text": [
            "--2024-10-07 22:30:31--  https://course.ccs.neu.edu/cs6220/fall2024/homework-3/soc-LiveJournal1Adj.txt\n",
            "Resolving course.ccs.neu.edu (course.ccs.neu.edu)... 129.10.117.35\n",
            "Connecting to course.ccs.neu.edu (course.ccs.neu.edu)|129.10.117.35|:443... connected.\n",
            "WARNING: cannot verify course.ccs.neu.edu's certificate, issued by ‘CN=InCommon RSA Server CA 2,O=Internet2,C=US’:\n",
            "  Unable to locally verify the issuer's authority.\n",
            "HTTP request sent, awaiting response... 200 OK\n",
            "Length: 4156181 (4.0M) [text/plain]\n",
            "Saving to: ‘soc-LiveJournal1Adj.txt’\n",
            "\n",
            "soc-LiveJournal1Adj 100%[===================>]   3.96M  6.87MB/s    in 0.6s    \n",
            "\n",
            "2024-10-07 22:30:32 (6.87 MB/s) - ‘soc-LiveJournal1Adj.txt’ saved [4156181/4156181]\n",
            "\n"
          ]
        }
      ]
    },
    {
      "cell_type": "markdown",
      "source": [
        "### Load the data in!"
      ],
      "metadata": {
        "id": "3TA8JoRuJEmS"
      }
    },
    {
      "cell_type": "code",
      "source": [
        "# Read the data in\n",
        "lines = sc.textFile(\"soc-LiveJournal1Adj.txt\", 1)\n",
        "lines = lines.map(lambda line: line.split())"
      ],
      "metadata": {
        "id": "cdLH8ltnJEHA"
      },
      "execution_count": null,
      "outputs": []
    },
    {
      "cell_type": "code",
      "source": [
        "# lines. Check part of the lines\n",
        "\n",
        "lines.take(2)"
      ],
      "metadata": {
        "colab": {
          "base_uri": "https://localhost:8080/"
        },
        "id": "huCITf4Dovf5",
        "outputId": "f13e682d-e587-4e1d-a020-525c7e37b803"
      },
      "execution_count": null,
      "outputs": [
        {
          "output_type": "execute_result",
          "data": {
            "text/plain": [
              "[['0',\n",
              "  '1,2,3,4,5,6,7,8,9,10,11,12,13,14,15,16,17,18,19,20,21,22,23,24,25,26,27,28,29,30,31,32,33,34,35,36,37,38,39,40,41,42,43,44,45,46,47,48,49,50,51,52,53,54,55,56,57,58,59,60,61,62,63,64,65,66,67,68,69,70,71,72,73,74,75,76,77,78,79,80,81,82,83,84,85,86,87,88,89,90,91,92,93,94'],\n",
              " ['1',\n",
              "  '0,5,20,135,2409,8715,8932,10623,12347,12846,13840,13845,14005,20075,21556,22939,23520,28193,29724,29791,29826,30691,31232,31435,32317,32489,34394,35589,35605,35606,35613,35633,35648,35678,38737,43447,44846,44887,49226,49985,623,629,4999,6156,13912,14248,15190,17636,19217,20074,27536,29481,29726,29767,30257,33060,34250,34280,34392,34406,34418,34420,34439,34450,34651,45054,49592']]"
            ]
          },
          "metadata": {},
          "execution_count": 27
        }
      ]
    },
    {
      "cell_type": "markdown",
      "source": [
        "**Parse the input data. Get user and friends list.**"
      ],
      "metadata": {
        "id": "dCCB0Vbv9730"
      }
    },
    {
      "cell_type": "code",
      "source": [
        "# Parse the input data to get each user and their friends list: [userId, set(friends)].\n",
        "\n",
        "def parse_line(line):\n",
        "    user = int(line[0])\n",
        "    if len(line) > 1 and line[1].strip():\n",
        "        friends = set(map(int, line[1].split(',')))\n",
        "    else:\n",
        "        friends = set()\n",
        "    return (user, friends)\n",
        "\n",
        "user_friends = lines.map(parse_line)\n",
        "\n",
        "user_friends.take(2)"
      ],
      "metadata": {
        "colab": {
          "base_uri": "https://localhost:8080/"
        },
        "id": "hVv5xRChG3sc",
        "outputId": "4232f0fa-1810-43fb-efbd-889529bd3579"
      },
      "execution_count": null,
      "outputs": [
        {
          "output_type": "execute_result",
          "data": {
            "text/plain": [
              "[(0,\n",
              "  {1,\n",
              "   2,\n",
              "   3,\n",
              "   4,\n",
              "   5,\n",
              "   6,\n",
              "   7,\n",
              "   8,\n",
              "   9,\n",
              "   10,\n",
              "   11,\n",
              "   12,\n",
              "   13,\n",
              "   14,\n",
              "   15,\n",
              "   16,\n",
              "   17,\n",
              "   18,\n",
              "   19,\n",
              "   20,\n",
              "   21,\n",
              "   22,\n",
              "   23,\n",
              "   24,\n",
              "   25,\n",
              "   26,\n",
              "   27,\n",
              "   28,\n",
              "   29,\n",
              "   30,\n",
              "   31,\n",
              "   32,\n",
              "   33,\n",
              "   34,\n",
              "   35,\n",
              "   36,\n",
              "   37,\n",
              "   38,\n",
              "   39,\n",
              "   40,\n",
              "   41,\n",
              "   42,\n",
              "   43,\n",
              "   44,\n",
              "   45,\n",
              "   46,\n",
              "   47,\n",
              "   48,\n",
              "   49,\n",
              "   50,\n",
              "   51,\n",
              "   52,\n",
              "   53,\n",
              "   54,\n",
              "   55,\n",
              "   56,\n",
              "   57,\n",
              "   58,\n",
              "   59,\n",
              "   60,\n",
              "   61,\n",
              "   62,\n",
              "   63,\n",
              "   64,\n",
              "   65,\n",
              "   66,\n",
              "   67,\n",
              "   68,\n",
              "   69,\n",
              "   70,\n",
              "   71,\n",
              "   72,\n",
              "   73,\n",
              "   74,\n",
              "   75,\n",
              "   76,\n",
              "   77,\n",
              "   78,\n",
              "   79,\n",
              "   80,\n",
              "   81,\n",
              "   82,\n",
              "   83,\n",
              "   84,\n",
              "   85,\n",
              "   86,\n",
              "   87,\n",
              "   88,\n",
              "   89,\n",
              "   90,\n",
              "   91,\n",
              "   92,\n",
              "   93,\n",
              "   94}),\n",
              " (1,\n",
              "  {0,\n",
              "   5,\n",
              "   20,\n",
              "   135,\n",
              "   623,\n",
              "   629,\n",
              "   2409,\n",
              "   4999,\n",
              "   6156,\n",
              "   8715,\n",
              "   8932,\n",
              "   10623,\n",
              "   12347,\n",
              "   12846,\n",
              "   13840,\n",
              "   13845,\n",
              "   13912,\n",
              "   14005,\n",
              "   14248,\n",
              "   15190,\n",
              "   17636,\n",
              "   19217,\n",
              "   20074,\n",
              "   20075,\n",
              "   21556,\n",
              "   22939,\n",
              "   23520,\n",
              "   27536,\n",
              "   28193,\n",
              "   29481,\n",
              "   29724,\n",
              "   29726,\n",
              "   29767,\n",
              "   29791,\n",
              "   29826,\n",
              "   30257,\n",
              "   30691,\n",
              "   31232,\n",
              "   31435,\n",
              "   32317,\n",
              "   32489,\n",
              "   33060,\n",
              "   34250,\n",
              "   34280,\n",
              "   34392,\n",
              "   34394,\n",
              "   34406,\n",
              "   34418,\n",
              "   34420,\n",
              "   34439,\n",
              "   34450,\n",
              "   34651,\n",
              "   35589,\n",
              "   35605,\n",
              "   35606,\n",
              "   35613,\n",
              "   35633,\n",
              "   35648,\n",
              "   35678,\n",
              "   38737,\n",
              "   43447,\n",
              "   44846,\n",
              "   44887,\n",
              "   45054,\n",
              "   49226,\n",
              "   49592,\n",
              "   49985})]"
            ]
          },
          "metadata": {},
          "execution_count": 28
        }
      ]
    },
    {
      "cell_type": "markdown",
      "source": [
        "**Generate potential friend pairs with mutual friends.**"
      ],
      "metadata": {
        "id": "P69EFaT6-IMA"
      }
    },
    {
      "cell_type": "code",
      "source": [
        "# Generate potential friend pairs with mutual friends.\n",
        "# The inputs are a user and their friends. The output are pairs of friends with one common user.\n",
        "# This method iterates all friends of the input user, and create pairs of friends excluding the user.\n",
        "# It also compare the items in each pair to ensure ((A, B), userI) and ((B, A), userI) are treated the same.\n",
        "\n",
        "def generate_potential_friend_pair(user, friends):\n",
        "    potential_friend_pair = []\n",
        "    for friend in friends:\n",
        "        for mutual_friend in friends:\n",
        "            if friend != mutual_friend:\n",
        "                potential_friend_pair.append(((min(friend, mutual_friend), max(friend, mutual_friend)), user))\n",
        "    return potential_friend_pair\n",
        "\n",
        "# Generate all potential friends pairs\n",
        "potential_friend_pair = user_friends.flatMap(lambda x: generate_potential_friend_pair(x[0], x[1]))\n",
        "\n",
        "potential_friend_pair.take(2)"
      ],
      "metadata": {
        "colab": {
          "base_uri": "https://localhost:8080/"
        },
        "id": "QA_KNMsvXoLX",
        "outputId": "45ef7a42-8916-46da-9adc-13d977b04446"
      },
      "execution_count": null,
      "outputs": [
        {
          "output_type": "execute_result",
          "data": {
            "text/plain": [
              "[((1, 2), 0), ((1, 3), 0)]"
            ]
          },
          "metadata": {},
          "execution_count": 34
        }
      ]
    },
    {
      "cell_type": "markdown",
      "source": [
        "**Get mutual friends occuring frequency**"
      ],
      "metadata": {
        "id": "fXnTLpb7-OeP"
      }
    },
    {
      "cell_type": "code",
      "source": [
        "# Count the number of times each pair appears which indicates the number of mutual friends.\n",
        "# mutual friends: ((A, B), times)\n",
        "\n",
        "mutual_friend_counts = potential_friend_pair.groupByKey().mapValues(lambda users: len(set(users)))\n",
        "\n",
        "mutual_friend_counts.take(2)"
      ],
      "metadata": {
        "colab": {
          "base_uri": "https://localhost:8080/"
        },
        "id": "2hDY5jwEYSLS",
        "outputId": "3e3a5308-e041-4e64-a687-08b78962eb71"
      },
      "execution_count": null,
      "outputs": [
        {
          "output_type": "execute_result",
          "data": {
            "text/plain": [
              "[((40245, 43897), 1), ((7783, 21556), 2)]"
            ]
          },
          "metadata": {},
          "execution_count": 35
        }
      ]
    },
    {
      "cell_type": "markdown",
      "source": [
        "**Exclude the existing friends**"
      ],
      "metadata": {
        "id": "vCmk45-Q-XJi"
      }
    },
    {
      "cell_type": "code",
      "source": [
        "# Filter out the existing friends in these pairs. They will not be recommended.\n",
        "# Each pair of existing friends will be marked as 1.\n",
        "# First generate all existing friends dictionary. Then filter out existing friends from mutual_friend_counts.\n",
        "# filtered mutual friends: ((A, B), times)\n",
        "\n",
        "existing_friends = user_friends.flatMap(lambda x: [((min(x[0], friend), max(x[0], friend)), 1) for friend in x[1]])\n",
        "\n",
        "existing_friends_dict = dict(existing_friends.collect())\n",
        "\n",
        "filtered_mutual_friend = mutual_friend_counts.filter(lambda x: x[0] not in existing_friends_dict)\n",
        "\n",
        "filtered_mutual_friend.take(2)"
      ],
      "metadata": {
        "colab": {
          "base_uri": "https://localhost:8080/"
        },
        "id": "96tmU9BUYTJs",
        "outputId": "c0a2182b-df5d-444b-e767-96cd78267c93"
      },
      "execution_count": null,
      "outputs": [
        {
          "output_type": "execute_result",
          "data": {
            "text/plain": [
              "[((2, 4), 1), ((5, 29), 1)]"
            ]
          },
          "metadata": {},
          "execution_count": 37
        }
      ]
    },
    {
      "cell_type": "markdown",
      "source": [
        "**Get top 10 potential friends for each user**"
      ],
      "metadata": {
        "id": "hQzn2qoM-bqa"
      }
    },
    {
      "cell_type": "code",
      "source": [
        "# For each user, the potential friends are sorted by the number of mutual friends in descending order.\n",
        "# Generate the potential friends for each user with the frequency based on mutual friend occuring frequencies.\n",
        "\n",
        "def generate_potential_friends(pair, freq):\n",
        "    user1 = pair[0]\n",
        "    user2 = pair[1]\n",
        "    return [(user1, (user2, freq)), (user2, (user1, freq))]\n",
        "\n",
        "user_potential_friends = filtered_mutual_friend.flatMap(lambda x: generate_potential_friends(x[0], x[1]))\n",
        "\n",
        "# Sort all user potential friends by the mutual friends occuring frequencies.\n",
        "def top_ten_potential_friends(freqs):\n",
        "    sorted_by_freqs = sorted(freqs, key=lambda x: (-x[1], x[0]))\n",
        "    top_ten = [friend for friend, _ in sorted_by_freqs][:10]\n",
        "    return top_ten\n",
        "\n",
        "all_user_potential_friends = user_potential_friends.groupByKey().mapValues(top_ten_potential_friends)\n",
        "\n",
        "all_user_potential_friends.take(2)"
      ],
      "metadata": {
        "colab": {
          "base_uri": "https://localhost:8080/"
        },
        "id": "tStpDEu4YYNl",
        "outputId": "72951a18-65a5-4f25-9105-f2596513ebe9"
      },
      "execution_count": null,
      "outputs": [
        {
          "output_type": "execute_result",
          "data": {
            "text/plain": [
              "[(13182,\n",
              "  [22756, 11387, 23616, 19427, 19431, 11404, 34159, 34179, 19428, 23507]),\n",
              " (41830,\n",
              "  [25186, 10022, 37356, 10135, 19365, 30220, 27552, 37448, 37597, 39240])]"
            ]
          },
          "metadata": {},
          "execution_count": 38
        }
      ]
    },
    {
      "cell_type": "markdown",
      "source": [
        "**Process the ouput**"
      ],
      "metadata": {
        "id": "ATbWrCrU-gla"
      }
    },
    {
      "cell_type": "code",
      "source": [
        "# Process the output and save them into a txt file.\n",
        "\n",
        "def format_recommendations_concat(user_top_ten_potential_friends):\n",
        "    user = user_top_ten_potential_friends[0]\n",
        "    potential_friends = user_top_ten_potential_friends[1]\n",
        "    friends_str = ','.join(map(str, potential_friends))\n",
        "    return str(user) + '\\t' + friends_str\n",
        "\n",
        "output = all_user_potential_friends.map(format_recommendations_concat)"
      ],
      "metadata": {
        "id": "dXExgCsPYa9K"
      },
      "execution_count": null,
      "outputs": []
    },
    {
      "cell_type": "code",
      "source": [
        "# Generate the results for required users. Sanity check to verify user \"11\" results.\n",
        "# For sanity check, your top 10 recommendations for user ID 11 should be: 27552, 7785, 27573, 27574, 27589, 27590, 27600, 27617, 27620, 27667.\n",
        "\n",
        "required_users = [11, 924, 8941, 8942, 9019, 9020, 9021, 9022, 9990, 9992, 9993]\n",
        "\n",
        "recommendation_results = all_user_potential_friends.filter(lambda x: x[0] in required_users).collect()\n",
        "\n",
        "for user, recommendations in recommendation_results:\n",
        "    print(f\"User ID {user}: {', '.join(map(str, recommendations))}\")"
      ],
      "metadata": {
        "colab": {
          "base_uri": "https://localhost:8080/"
        },
        "id": "gZ9mkLcdYdc3",
        "outputId": "b20d8713-aa66-4677-b604-82247d6b8f6c"
      },
      "execution_count": null,
      "outputs": [
        {
          "output_type": "stream",
          "name": "stdout",
          "text": [
            "User ID 924: 439, 2409, 6995, 11860, 15416, 43748, 45881\n",
            "User ID 9020: 9021, 9016, 9017, 9022, 317, 9023\n",
            "User ID 9019: 9022, 317, 9023\n",
            "User ID 9993: 9991, 13134, 13478, 13877, 34299, 34485, 34642, 37941\n",
            "User ID 9022: 9019, 9020, 9021, 317, 9016, 9017, 9023\n",
            "User ID 8941: 8943, 8944, 8940\n",
            "User ID 9992: 9987, 9989, 35667, 9991\n",
            "User ID 9021: 9020, 9016, 9017, 9022, 317, 9023\n",
            "User ID 9990: 13134, 13478, 13877, 34299, 34485, 34642, 37941\n",
            "User ID 11: 27552, 7785, 27573, 27574, 27589, 27590, 27600, 27617, 27620, 27667\n",
            "User ID 8942: 8939, 8940, 8943, 8944\n"
          ]
        }
      ]
    },
    {
      "cell_type": "code",
      "source": [
        "print(type(output))"
      ],
      "metadata": {
        "colab": {
          "base_uri": "https://localhost:8080/"
        },
        "id": "BIqUBMlc_Tuf",
        "outputId": "4d6938f3-0d7c-458a-dec3-b1b4714ea37f"
      },
      "execution_count": 43,
      "outputs": [
        {
          "output_type": "stream",
          "name": "stdout",
          "text": [
            "<class 'pyspark.rdd.PipelinedRDD'>\n"
          ]
        }
      ]
    },
    {
      "cell_type": "code",
      "source": [
        "from google.colab import drive\n",
        "drive.mount('/content/drive')\n",
        "\n",
        "output_path = \"/content/assignment3/output\"\n",
        "\n",
        "output.saveAsTextFile(output_path)"
      ],
      "metadata": {
        "colab": {
          "base_uri": "https://localhost:8080/"
        },
        "id": "TNio2a-O7ZCx",
        "outputId": "0da88c9e-55e2-494c-bf26-f85c18b3ae23"
      },
      "execution_count": 44,
      "outputs": [
        {
          "output_type": "stream",
          "name": "stdout",
          "text": [
            "Mounted at /content/drive\n"
          ]
        }
      ]
    },
    {
      "cell_type": "code",
      "source": [
        "import shutil\n",
        "import os\n",
        "\n",
        "source_file = os.path.join(output_path, \"part-00000\")\n",
        "\n",
        "destination_file = \"/content/drive/My Drive/output.txt\"\n",
        "\n",
        "shutil.copy(source_file, destination_file)"
      ],
      "metadata": {
        "colab": {
          "base_uri": "https://localhost:8080/",
          "height": 35
        },
        "id": "JjT7-vyHARLU",
        "outputId": "e14a6ba0-7f58-41e6-e5f2-8c4672afc499"
      },
      "execution_count": 45,
      "outputs": [
        {
          "output_type": "execute_result",
          "data": {
            "text/plain": [
              "'/content/drive/My Drive/output.txt'"
            ],
            "application/vnd.google.colaboratory.intrinsic+json": {
              "type": "string"
            }
          },
          "metadata": {},
          "execution_count": 45
        }
      ]
    }
  ],
  "metadata": {
    "colab": {
      "provenance": []
    },
    "kernelspec": {
      "display_name": "Python 3",
      "name": "python3"
    }
  },
  "nbformat": 4,
  "nbformat_minor": 0
}