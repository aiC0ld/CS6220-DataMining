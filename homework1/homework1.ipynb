{
  "cells": [
    {
      "cell_type": "code",
      "execution_count": 63,
      "metadata": {
        "id": "bdM6NSRawQsw",
        "colab": {
          "base_uri": "https://localhost:8080/"
        },
        "outputId": "254f60bd-4901-4aff-f32e-c7e3e1f75094"
      },
      "outputs": [
        {
          "output_type": "stream",
          "name": "stdout",
          "text": [
            "Data in combined_data_1.txt looks like this: \n",
            "\n",
            "1:\n",
            "1488844,3,2005-09-06\n",
            "822109,5,2005-05-13\n",
            "885013,4,2005-10-19\n",
            "30878,4,2005-12-26\n",
            "\n",
            "\n",
            "Data in movie_titles.csv looks like this: \n",
            "\n",
            "1,2003,Dinosaur Planet\n",
            "2,2004,Isle of Man TT 2004 Review\n",
            "3,1997,Character\n",
            "4,1994,Paula Abdul's Get Up & Dance\n",
            "5,2004,The Rise and Fall of ECW\n"
          ]
        }
      ],
      "source": [
        "#@title Download the data from website\n",
        "!wget -nc --no-check-certificate https://course.ccs.neu.edu/cs6220/fall2023/homework-1/netflix-data/movie_titles.csv\n",
        "!wget -nc --no-check-certificate https://course.ccs.neu.edu/cs6220/fall2023/homework-1/netflix-data/combined_data_1.txt\n",
        "!wget -nc --no-check-certificate https://course.ccs.neu.edu/cs6220/fall2023/homework-1/netflix-data/combined_data_2.txt\n",
        "!wget -nc --no-check-certificate https://course.ccs.neu.edu/cs6220/fall2023/homework-1/netflix-data/combined_data_3.txt\n",
        "!wget -nc --no-check-certificate https://course.ccs.neu.edu/cs6220/fall2023/homework-1/netflix-data/combined_data_4.txt\n",
        "!wget -nc --no-check-certificate https://course.ccs.neu.edu/cs6220/fall2024/homework-1/basket_data.csv\n",
        "\n",
        "from IPython.display import clear_output\n",
        "clear_output()\n",
        "\n",
        "print(\"Data in combined_data_1.txt looks like this: \\n\")\n",
        "!head -5 combined_data_1.txt\n",
        "\n",
        "print(\"\\n\\nData in movie_titles.csv looks like this: \\n\")\n",
        "!head -5 movie_titles.csv"
      ]
    },
    {
      "cell_type": "code",
      "source": [
        "f = open(\"movie_titles.csv\", encoding =\"cp1252\")\n",
        "data_lines = open(\"combined_data_1.txt\", \"r\").readlines()"
      ],
      "metadata": {
        "id": "yljOq5Mod1Q2"
      },
      "execution_count": 64,
      "outputs": []
    },
    {
      "cell_type": "markdown",
      "source": [
        "## **Problem 1**"
      ],
      "metadata": {
        "id": "OGG0U8L4efW1"
      }
    },
    {
      "cell_type": "code",
      "source": [
        "import csv"
      ],
      "metadata": {
        "id": "ltvFv29leizj"
      },
      "execution_count": 65,
      "outputs": []
    },
    {
      "cell_type": "code",
      "source": [
        "def cardinality_items(filename):\n",
        "  cardinality_set = set()\n",
        "  with open(filename, 'r') as file:\n",
        "    for line in file:\n",
        "      items = line.strip().split(',')\n",
        "      for item in items:\n",
        "        cardinality_set.add(item.strip())\n",
        "    return len(cardinality_set)"
      ],
      "metadata": {
        "id": "V6TXQqqzek6v"
      },
      "execution_count": 66,
      "outputs": []
    },
    {
      "cell_type": "code",
      "source": [
        "print(\"The cardinality of the document given is\",cardinality_items('basket_data.csv'))"
      ],
      "metadata": {
        "colab": {
          "base_uri": "https://localhost:8080/"
        },
        "id": "KUilx8sDemlI",
        "outputId": "693f953c-7585-4e34-9b4f-3225572c977d"
      },
      "execution_count": 67,
      "outputs": [
        {
          "output_type": "stream",
          "name": "stdout",
          "text": [
            "The cardinality of the document given is 21\n"
          ]
        }
      ]
    },
    {
      "cell_type": "markdown",
      "source": [
        "## **Problem 2**"
      ],
      "metadata": {
        "id": "9aaU62F2hnvW"
      }
    },
    {
      "cell_type": "code",
      "source": [
        "def all_itemsets(unique_items, k):\n",
        "    res = []\n",
        "    n = len(unique_items)\n",
        "\n",
        "    def backtrack(comb, idx, remaining):\n",
        "        if remaining == 0:\n",
        "            res.append(comb[:])\n",
        "        else:\n",
        "            for i in range(idx, n):\n",
        "                comb.append(unique_items[i])\n",
        "                backtrack(comb, i + 1, remaining - 1)\n",
        "                comb.pop()\n",
        "\n",
        "    backtrack([], 0, k)\n",
        "    return res"
      ],
      "metadata": {
        "id": "RBzg_iayhpQN"
      },
      "execution_count": 73,
      "outputs": []
    },
    {
      "cell_type": "code",
      "source": [
        "print(\"All possible sets:\", all_itemsets( [\"ham\", \"cheese\", \"bread\"], 2 ))"
      ],
      "metadata": {
        "colab": {
          "base_uri": "https://localhost:8080/"
        },
        "id": "CmiGlQBR_PQ_",
        "outputId": "2f47e5e6-e3e0-4808-c677-1f56fda9833a"
      },
      "execution_count": 75,
      "outputs": [
        {
          "output_type": "stream",
          "name": "stdout",
          "text": [
            "All possible sets: [['ham', 'cheese'], ['ham', 'bread'], ['cheese', 'bread']]\n"
          ]
        }
      ]
    },
    {
      "cell_type": "markdown",
      "source": [
        "## **Examining Our First Dataset**"
      ],
      "metadata": {
        "id": "ZeHcRfYKDVaY"
      }
    },
    {
      "cell_type": "markdown",
      "source": [
        "## **Problem 3**"
      ],
      "metadata": {
        "id": "e8vETV2a_66F"
      }
    },
    {
      "cell_type": "markdown",
      "source": [
        "3(a) How many total records of movie ratings are there in the entire dataset (over all of combined_data_*.txt)?"
      ],
      "metadata": {
        "id": "ysjwMTb2HqNy"
      }
    },
    {
      "cell_type": "code",
      "source": [
        "def total_records():\n",
        "  total = 0\n",
        "  for i in range(1, 5):\n",
        "    filename = f'combined_data_{i}.txt'\n",
        "    with open(filename, \"r\") as file:\n",
        "      ratings = file.read()\n",
        "    for line in ratings.split(\"\\n\"):\n",
        "      if line:\n",
        "        if line.endswith(\":\"):\n",
        "          continue\n",
        "        total += 1\n",
        "  return total"
      ],
      "metadata": {
        "id": "PiRVdS9g_8Uh"
      },
      "execution_count": 81,
      "outputs": []
    },
    {
      "cell_type": "code",
      "source": [
        "print(\"There are\", total_records(), \"total records of movie ratings.\")"
      ],
      "metadata": {
        "colab": {
          "base_uri": "https://localhost:8080/"
        },
        "id": "dIF58AmwBMYt",
        "outputId": "228d4f1d-1480-4ff6-a572-e610b0d7fcfd"
      },
      "execution_count": 82,
      "outputs": [
        {
          "output_type": "stream",
          "name": "stdout",
          "text": [
            "There are 100480507 total records of movie ratings.\n"
          ]
        }
      ]
    },
    {
      "cell_type": "markdown",
      "source": [
        "3(b) How many total unique users are there in the entire dataset (over all of combined_data_*.txt)?"
      ],
      "metadata": {
        "id": "sOQuYy4wH7xI"
      }
    },
    {
      "cell_type": "code",
      "source": [
        "def total_unique_users():\n",
        "  unique_users = set()\n",
        "  for i in range(1, 5):\n",
        "    filename = f'combined_data_{i}.txt'\n",
        "    with open(filename, \"r\") as file:\n",
        "      combined_data = file.readlines()\n",
        "    for data in combined_data:\n",
        "      data = data.rstrip()\n",
        "      if data and not data.endswith(\":\"):\n",
        "        user_id = data.split(\",\")[0]\n",
        "        unique_users.add(user_id)\n",
        "  return len(unique_users)"
      ],
      "metadata": {
        "id": "ViO5gw4DH9vs"
      },
      "execution_count": 83,
      "outputs": []
    },
    {
      "cell_type": "code",
      "source": [
        "print(\"There are\", total_unique_users(), \"total unique users.\")"
      ],
      "metadata": {
        "colab": {
          "base_uri": "https://localhost:8080/"
        },
        "id": "KXtt4_MyIHEy",
        "outputId": "a6b566ec-d04f-4289-b1ed-75e8d27c4a63"
      },
      "execution_count": 84,
      "outputs": [
        {
          "output_type": "stream",
          "name": "stdout",
          "text": [
            "There are 480189 total unique users.\n"
          ]
        }
      ]
    },
    {
      "cell_type": "markdown",
      "source": [
        "3(c) What is the range of years that this data is valid over?"
      ],
      "metadata": {
        "id": "OfYuHmMnIPPs"
      }
    },
    {
      "cell_type": "code",
      "source": [
        "def range_of_year():\n",
        "  for i in range(1, 5):\n",
        "      filename = f'combined_data_{i}.txt'\n",
        "      with open(filename, \"r\") as file:\n",
        "        date = file.read()\n",
        "      all_year = set()\n",
        "      for data in date.split(\"\\n\"):\n",
        "        if data.endswith(\":\"):\n",
        "          continue\n",
        "        if len(data) >= 3:\n",
        "          year = data.split(\",\")[2].split(\"-\")[0]\n",
        "          all_year.add(int(year))\n",
        "  return [min(all_year), max(all_year)]"
      ],
      "metadata": {
        "id": "uhF9ELhXIR3-"
      },
      "execution_count": 85,
      "outputs": []
    },
    {
      "cell_type": "code",
      "source": [
        "print(\"The range of years that this data is valid over is\", range_of_year())"
      ],
      "metadata": {
        "colab": {
          "base_uri": "https://localhost:8080/"
        },
        "id": "AQDEecVDIfPq",
        "outputId": "b944a186-29c5-4403-d1e6-726ad5bff92c"
      },
      "execution_count": 86,
      "outputs": [
        {
          "output_type": "stream",
          "name": "stdout",
          "text": [
            "The range of years that this data is valid over is [1999, 2005]\n"
          ]
        }
      ]
    },
    {
      "cell_type": "markdown",
      "source": [
        "## **Problem 4**"
      ],
      "metadata": {
        "id": "BaCnQaZPDZeB"
      }
    },
    {
      "cell_type": "code",
      "source": [
        "import pandas as pd\n",
        "with open(\"movie_titles.csv\", 'r', encoding = \"cp1252\") as file:\n",
        "    column1, column2, column3=[], [], []\n",
        "    for line in file:\n",
        "        parts = line.strip().split(',')\n",
        "        column1.append(parts[0])\n",
        "        column2.append(parts[1])\n",
        "        if(len(parts)>=2):\n",
        "            column3.append(\",\".join(parts[2:]))"
      ],
      "metadata": {
        "id": "JH7StWBtDa9Z"
      },
      "execution_count": 105,
      "outputs": []
    },
    {
      "cell_type": "markdown",
      "source": [
        "4(a) How many movies with unique names are there? That is to say, count the distinct names of the movies."
      ],
      "metadata": {
        "id": "bhVwIrw3Ek89"
      }
    },
    {
      "cell_type": "code",
      "source": [
        "print(\"There are\",len(df_movie.movie_title.unique()), \"movies with unique names.\")"
      ],
      "metadata": {
        "colab": {
          "base_uri": "https://localhost:8080/"
        },
        "id": "vht5VCX2EDl8",
        "outputId": "1d4f0bfb-9ca5-45ca-d3d7-06ce79caa84d"
      },
      "execution_count": 106,
      "outputs": [
        {
          "output_type": "stream",
          "name": "stdout",
          "text": [
            "There are 17359 movies with unique names.\n"
          ]
        }
      ]
    },
    {
      "cell_type": "markdown",
      "source": [
        "4(b) How many movie names refer to four different movies?"
      ],
      "metadata": {
        "id": "V1lAzb1kEr1D"
      }
    },
    {
      "cell_type": "code",
      "source": [
        "def count(filename):\n",
        "  movie_name_count = {}\n",
        "  res = 0\n",
        "  with open(filename, encoding = \"cp1252\") as file:\n",
        "    lines = csv.reader(file)\n",
        "    for row in lines:\n",
        "      if len(row) >= 3:\n",
        "        movie = \" \".join(row[2:])\n",
        "        if movie in movie_name_count:\n",
        "          movie_name_count[movie] += 1\n",
        "        else:\n",
        "          movie_name_count[movie] = 1\n",
        "    for movie, count in movie_name_count.items():\n",
        "      if count == 4:\n",
        "        res += 1\n",
        "    return res"
      ],
      "metadata": {
        "id": "IMYMy8nlFkx9"
      },
      "execution_count": 111,
      "outputs": []
    },
    {
      "cell_type": "code",
      "source": [
        "print(\"There are\", count(\"movie_titles.csv\"), \"movie names refer to four different movies.\")"
      ],
      "metadata": {
        "colab": {
          "base_uri": "https://localhost:8080/"
        },
        "id": "0azgEvpbY_0x",
        "outputId": "1ab4be23-bfea-41ec-ef11-31632892c798"
      },
      "execution_count": 112,
      "outputs": [
        {
          "output_type": "stream",
          "name": "stdout",
          "text": [
            "There are 5 movie names refer to four different movies.\n"
          ]
        }
      ]
    },
    {
      "cell_type": "markdown",
      "source": [
        "## **Problem 5**"
      ],
      "metadata": {
        "id": "02opvKl_JGtE"
      }
    },
    {
      "cell_type": "markdown",
      "source": [
        "5(a) How many users rated exactly 200 movies?"
      ],
      "metadata": {
        "id": "17dwNbhIJNLb"
      }
    },
    {
      "cell_type": "code",
      "source": [
        "def count():\n",
        "  map = {}\n",
        "  for file_number in range(1, 5):\n",
        "    filename = f'combined_data_{file_number}.txt'\n",
        "    with open(filename, \"r\") as file:\n",
        "      line = file.read()\n",
        "    for data in line.split(\"\\n\"):\n",
        "      if data and not data.endswith(\":\"):\n",
        "        user = int(data.split(\",\")[0])\n",
        "        if user not in map:\n",
        "          map[user] = 1\n",
        "        else:\n",
        "          map[user] += 1\n",
        "  return map"
      ],
      "metadata": {
        "id": "woAnaefMJIq-"
      },
      "execution_count": 115,
      "outputs": []
    },
    {
      "cell_type": "code",
      "source": [
        "def count_users(map):\n",
        "  res = 0\n",
        "  for n in map.values():\n",
        "    if n == 200:\n",
        "      res += 1\n",
        "  return res"
      ],
      "metadata": {
        "id": "37f5OWAlJdqj"
      },
      "execution_count": 116,
      "outputs": []
    },
    {
      "cell_type": "code",
      "source": [
        "print(count_users(count()), \"users rated exactly 200 movies.\")"
      ],
      "metadata": {
        "colab": {
          "base_uri": "https://localhost:8080/"
        },
        "id": "Af2HI80FJeT4",
        "outputId": "d87604c9-6e33-460a-f311-cb61ea566e26"
      },
      "execution_count": 117,
      "outputs": [
        {
          "output_type": "stream",
          "name": "stdout",
          "text": [
            "605 users rated exactly 200 movies.\n"
          ]
        }
      ]
    },
    {
      "cell_type": "markdown",
      "source": [
        "5(b) Of these users, take the lowest user ID and print out the names of the movies that this person liked the most (all 5 star ratings)."
      ],
      "metadata": {
        "id": "97hHBu0vKVKS"
      }
    },
    {
      "cell_type": "code",
      "source": [
        "from collections import defaultdict"
      ],
      "metadata": {
        "id": "Ie3dr9k6clDM"
      },
      "execution_count": 118,
      "outputs": []
    },
    {
      "cell_type": "code",
      "source": [
        "def lowest_user_id(count):\n",
        "  users = set()\n",
        "  for customer_id, count in count.items():\n",
        "    if count == 200:\n",
        "      users.add(customer_id)\n",
        "  return min(users)"
      ],
      "metadata": {
        "id": "ISEW7JDNKXbH"
      },
      "execution_count": 119,
      "outputs": []
    },
    {
      "cell_type": "code",
      "source": [
        "lowest_user_id = lowest_user_id(count_exact())"
      ],
      "metadata": {
        "id": "QC5a100dLCc7"
      },
      "execution_count": 120,
      "outputs": []
    },
    {
      "cell_type": "code",
      "source": [
        "def movie_id_list(user):\n",
        "  movie_id_list = defaultdict(set)\n",
        "  for file_number in range(1, 5):\n",
        "    filename = f'combined_data_{file_number}.txt'\n",
        "    with open(filename, \"r\") as file:\n",
        "      lines = file.readlines()\n",
        "    for line in lines:\n",
        "      line = line.rstrip()\n",
        "      if line and line.endswith(\":\"):\n",
        "          movie_id = int(line.split(\":\")[0])\n",
        "      if line and len(line.split(\",\")) >= 3:\n",
        "          customer = int(line.split(\",\")[0])\n",
        "          rating = int(line.split(\",\")[1])\n",
        "          if rating == 5:\n",
        "            movie_id_list[customer].add(movie_id)\n",
        "  return movie_id_list[user]"
      ],
      "metadata": {
        "id": "mJC5eCp0Kd58"
      },
      "execution_count": 121,
      "outputs": []
    },
    {
      "cell_type": "code",
      "source": [
        "def most_liked(movie_id_list, movie_file):\n",
        "  most_liked = set()\n",
        "  with open(movie_file, \"r\", encoding = \"cp1252\") as file:\n",
        "    lines = file.readlines()\n",
        "  for line in lines:\n",
        "    line = line.rstrip()\n",
        "    if line and len(line.split(\",\")) >= 3:\n",
        "      movie_id = int(line.split(\",\")[0])\n",
        "      if movie_id in movie_id_list:\n",
        "        title = \"\".join(line.split(\",\")[2:])\n",
        "        most_liked.add(title)\n",
        "  return most_liked"
      ],
      "metadata": {
        "id": "vC4D_cNWKetP"
      },
      "execution_count": 122,
      "outputs": []
    },
    {
      "cell_type": "code",
      "source": [
        "print(\"The lowest user id is\", lowest_user_id)"
      ],
      "metadata": {
        "colab": {
          "base_uri": "https://localhost:8080/"
        },
        "id": "3YUGEYt3KhYz",
        "outputId": "74b8e0cf-43ba-48b1-91d9-d3936051c47c"
      },
      "execution_count": 123,
      "outputs": [
        {
          "output_type": "stream",
          "name": "stdout",
          "text": [
            "The lowest user id is 508\n"
          ]
        }
      ]
    },
    {
      "cell_type": "code",
      "source": [
        "movie_list = movie_id_list(lowest_user_id)"
      ],
      "metadata": {
        "id": "RiHRvvupK3gm"
      },
      "execution_count": 124,
      "outputs": []
    },
    {
      "cell_type": "code",
      "source": [
        "most_liked(movie_list, \"movie_titles.csv\")"
      ],
      "metadata": {
        "colab": {
          "base_uri": "https://localhost:8080/"
        },
        "id": "OaG5BLJuK8x5",
        "outputId": "68f21ec7-b6bd-4a31-b8cc-d7a4b79d6eac"
      },
      "execution_count": 125,
      "outputs": [
        {
          "output_type": "execute_result",
          "data": {
            "text/plain": [
              "{'Adaptation',\n",
              " 'Amelie',\n",
              " 'American Beauty',\n",
              " 'Apocalypse Now',\n",
              " 'Apocalypse Now Redux',\n",
              " 'Band of Brothers',\n",
              " 'Being John Malkovich',\n",
              " 'Bowling for Columbine',\n",
              " \"Boys Don't Cry\",\n",
              " 'Cabaret',\n",
              " 'Days of Wine and Roses',\n",
              " 'Downfall',\n",
              " 'Election',\n",
              " 'Eternal Sunshine of the Spotless Mind',\n",
              " 'Gandhi',\n",
              " 'Garden State',\n",
              " 'Good Will Hunting',\n",
              " 'Harold and Maude',\n",
              " 'High Fidelity',\n",
              " 'L.A. Confidential',\n",
              " 'Lord of the Rings: The Fellowship of the Ring',\n",
              " 'Lord of the Rings: The Return of the King',\n",
              " 'Lord of the Rings: The Return of the King: Extended Edition',\n",
              " 'Lord of the Rings: The Two Towers',\n",
              " 'Lord of the Rings: The Two Towers: Extended Edition',\n",
              " 'Lost in Translation',\n",
              " 'Maria Full of Grace',\n",
              " 'Memento',\n",
              " 'Minority Report',\n",
              " 'Monster',\n",
              " 'Monty Python and the Holy Grail',\n",
              " \"Monty Python's Life of Brian\",\n",
              " \"Monty Python's The Meaning of Life: Special Edition\",\n",
              " 'Raging Bull',\n",
              " 'Raising Arizona',\n",
              " 'Roger & Me',\n",
              " \"Schindler's List\",\n",
              " 'Shakespeare in Love',\n",
              " 'Sideways',\n",
              " 'Super Size Me',\n",
              " 'Taxi Driver',\n",
              " 'The Accused',\n",
              " 'The Lord of the Rings: The Fellowship of the Ring: Extended Edition',\n",
              " 'The Manchurian Candidate',\n",
              " 'The Pianist',\n",
              " 'The Royal Tenenbaums',\n",
              " 'The Shawshank Redemption: Special Edition',\n",
              " 'The Silence of the Lambs',\n",
              " 'The Usual Suspects',\n",
              " 'This Is Spinal Tap',\n",
              " 'Three Kings',\n",
              " 'To Be and To Have',\n",
              " 'To Die For',\n",
              " 'Touching the Void',\n",
              " 'Unforgiven',\n",
              " 'Vietnam: A Television History',\n",
              " 'Whale Rider'}"
            ]
          },
          "metadata": {},
          "execution_count": 125
        }
      ]
    }
  ],
  "metadata": {
    "colab": {
      "provenance": []
    },
    "kernelspec": {
      "display_name": "Python 3",
      "name": "python3"
    },
    "language_info": {
      "name": "python"
    }
  },
  "nbformat": 4,
  "nbformat_minor": 0
}